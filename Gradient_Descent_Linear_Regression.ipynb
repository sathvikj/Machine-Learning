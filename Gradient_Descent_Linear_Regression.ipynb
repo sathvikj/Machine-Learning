{
 "cells": [
  {
   "cell_type": "code",
   "execution_count": 1,
   "metadata": {},
   "outputs": [
    {
     "name": "stdout",
     "output_type": "stream",
     "text": [
      "C:\\Users\\sathv\\OneDrive\\UTD\\Sem2\\ML\\Python\n"
     ]
    }
   ],
   "source": [
    "cd C:\\Users\\sathv\\OneDrive\\UTD\\Sem2\\ML\\python"
   ]
  },
  {
   "cell_type": "code",
   "execution_count": 269,
   "metadata": {},
   "outputs": [],
   "source": [
    "#https://stackoverflow.com/questions/17784587/gradient-descent-using-python-and-numpy"
   ]
  },
  {
   "cell_type": "code",
   "execution_count": 2,
   "metadata": {},
   "outputs": [],
   "source": [
    "import pandas as pd\n",
    "import numpy as np\n",
    "from sklearn.model_selection import train_test_split\n",
    "import random\n",
    "import matplotlib.pyplot as plt"
   ]
  },
  {
   "cell_type": "code",
   "execution_count": 3,
   "metadata": {},
   "outputs": [],
   "source": [
    "onp = pd.read_csv('onlinenewspopularity.csv')"
   ]
  },
  {
   "cell_type": "code",
   "execution_count": 4,
   "metadata": {},
   "outputs": [],
   "source": [
    "def norm(data):\n",
    "    temp = data.copy()\n",
    "    for cols in data.columns:\n",
    "        mini = data[cols].min()\n",
    "        maxi = data[cols].max()\n",
    "        mean = data[cols].mean()\n",
    "        temp[cols] = (data[cols]-mean)/(maxi-mini)\n",
    "    return temp"
   ]
  },
  {
   "cell_type": "code",
   "execution_count": 5,
   "metadata": {},
   "outputs": [],
   "source": [
    "data = pd.DataFrame(norm(onp))\n",
    "#data.insert(0,'ones',1)\n",
    "train, test = train_test_split(data, test_size=0.3)\n",
    "r,c = train.shape\n",
    "#alpha = 0.01"
   ]
  },
  {
   "cell_type": "code",
   "execution_count": 9,
   "metadata": {},
   "outputs": [
    {
     "ename": "NameError",
     "evalue": "name 'n' is not defined",
     "output_type": "error",
     "traceback": [
      "\u001b[1;31m---------------------------------------------------------------------------\u001b[0m",
      "\u001b[1;31mNameError\u001b[0m                                 Traceback (most recent call last)",
      "\u001b[1;32m<ipython-input-9-a0eab35e1bb5>\u001b[0m in \u001b[0;36m<module>\u001b[1;34m()\u001b[0m\n\u001b[0;32m      3\u001b[0m \u001b[0mXtest\u001b[0m \u001b[1;33m=\u001b[0m \u001b[0mnp\u001b[0m\u001b[1;33m.\u001b[0m\u001b[0marray\u001b[0m\u001b[1;33m(\u001b[0m\u001b[0mtest\u001b[0m\u001b[1;33m.\u001b[0m\u001b[0miloc\u001b[0m\u001b[1;33m[\u001b[0m\u001b[1;33m:\u001b[0m\u001b[1;33m,\u001b[0m\u001b[1;36m0\u001b[0m\u001b[1;33m:\u001b[0m\u001b[0mc\u001b[0m\u001b[1;33m-\u001b[0m\u001b[1;36m1\u001b[0m\u001b[1;33m]\u001b[0m\u001b[1;33m)\u001b[0m\u001b[1;33m\u001b[0m\u001b[0m\n\u001b[0;32m      4\u001b[0m \u001b[0mYtest\u001b[0m \u001b[1;33m=\u001b[0m \u001b[0mnp\u001b[0m\u001b[1;33m.\u001b[0m\u001b[0marray\u001b[0m\u001b[1;33m(\u001b[0m\u001b[0mtest\u001b[0m\u001b[1;33m.\u001b[0m\u001b[0miloc\u001b[0m\u001b[1;33m[\u001b[0m\u001b[1;33m:\u001b[0m\u001b[1;33m,\u001b[0m\u001b[1;33m-\u001b[0m\u001b[1;36m1\u001b[0m\u001b[1;33m]\u001b[0m\u001b[1;33m)\u001b[0m\u001b[1;33m\u001b[0m\u001b[0m\n\u001b[1;32m----> 5\u001b[1;33m \u001b[0mtheta\u001b[0m \u001b[1;33m=\u001b[0m \u001b[0mnp\u001b[0m\u001b[1;33m.\u001b[0m\u001b[0marray\u001b[0m\u001b[1;33m(\u001b[0m\u001b[1;33m[\u001b[0m\u001b[1;36m0\u001b[0m\u001b[1;33m]\u001b[0m\u001b[1;33m*\u001b[0m\u001b[1;33m(\u001b[0m\u001b[0mn\u001b[0m\u001b[1;33m)\u001b[0m\u001b[1;33m)\u001b[0m\u001b[1;33m\u001b[0m\u001b[0m\n\u001b[0m\u001b[0;32m      6\u001b[0m \u001b[1;31m#Xtrain,Ytrain,Xtest,Ytest = np.array(Xtrain),np.array(Ytrain),np.array(Xtest),np.array(Ytest)\u001b[0m\u001b[1;33m\u001b[0m\u001b[1;33m\u001b[0m\u001b[0m\n",
      "\u001b[1;31mNameError\u001b[0m: name 'n' is not defined"
     ]
    }
   ],
   "source": [
    "Xtrain = np.array(train.iloc[:,0:c-1])\n",
    "Ytrain = np.array(train.iloc[:,-1])\n",
    "Xtest = np.array(test.iloc[:,0:c-1])\n",
    "Ytest = np.array(test.iloc[:,-1])\n",
    "#Xtrain,Ytrain,Xtest,Ytest = np.array(Xtrain),np.array(Ytrain),np.array(Xtest),np.array(Ytest)"
   ]
  },
  {
   "cell_type": "code",
   "execution_count": 229,
   "metadata": {},
   "outputs": [
    {
     "data": {
      "text/plain": [
       "array([ 4.05988072e-07,  1.41132280e-07,  3.92892638e-08,  7.48860400e-10,\n",
       "        5.63724620e-10,  2.53158857e-10,  2.46866182e-07, -1.45954993e-08,\n",
       "        3.78388129e-07,  1.34375591e-07, -3.58750418e-07,  6.28228985e-07,\n",
       "        1.48115843e-07, -8.44035154e-07, -3.32126945e-07,  1.39152393e-07,\n",
       "       -8.52566837e-07, -2.80991528e-06, -6.35857260e-08,  7.39588333e-08,\n",
       "        8.38446342e-08,  2.31798737e-08,  3.46693961e-07,  1.01887988e-06,\n",
       "        1.88287755e-06,  2.04099754e-07,  5.00863877e-07,  2.28587937e-07,\n",
       "        3.83004897e-07,  2.80119487e-07,  5.17635498e-07, -5.74538366e-07,\n",
       "       -2.41488060e-09, -4.31856800e-07, -2.82954990e-07,  5.94208769e-07,\n",
       "        1.79920770e-07,  7.74129538e-07,  1.44491129e-08, -3.98542199e-07,\n",
       "       -2.59539220e-06,  3.74952164e-06, -7.89185282e-07,  5.00844479e-07,\n",
       "        2.68751701e-08, -1.52707653e-08,  4.22754961e-08, -3.89494550e-07,\n",
       "       -1.24273791e-07,  1.42481832e-07, -1.38234180e-08,  2.42126751e-07,\n",
       "       -6.49450789e-07, -8.74198273e-07, -3.29330758e-07,  1.00379057e-06,\n",
       "        2.60883056e-07,  1.55315763e-07,  8.80750981e-07])"
      ]
     },
     "execution_count": 229,
     "metadata": {},
     "output_type": "execute_result"
    }
   ],
   "source": [
    "#theta = np.array([0]*(n-1))\n",
    "#hypo = np.dot(Xtrain,theta)\n",
    "#loss = hypo-Ytrain\n",
    "#cost = np.sum(((np.dot(Xtrain,theta))-Ytrain)**2)/(2*m)\n",
    "#gradient = np.dot(((np.dot(Xtrain,theta))-Ytrain),Xtrain)/m\n",
    "#theta = theta - alpha * gradient\n",
    "#theta"
   ]
  },
  {
   "cell_type": "code",
   "execution_count": 7,
   "metadata": {},
   "outputs": [],
   "source": [
    "def gradient_descent(x,y,alpha,theta,iters): # add the variable \"limit\" if you want to break the code -------\n",
    "    x.insert(0,'ones',1)\n",
    "    m,n = x.shape\n",
    "    theta = np.array([0]*(n))\n",
    "    cost_history = []\n",
    "    for i in range(1,iters+1):\n",
    "        if i%1000 == 0: print(\"We are at the iteration: %d\" %i)\n",
    "        hypo = np.dot(x,theta)\n",
    "        loss = hypo-y\n",
    "        cost = np.sum(loss**2)/(2*m)\n",
    "        gradient = np.dot(loss,x)/m\n",
    "        theta = theta - alpha * gradient\n",
    "        cost_history.append(cost)\n",
    "        #if len(cost_history)>=2:\n",
    "            #if cost_history[len(cost_history)]-cost_history[len(cost_history)-1] < limit:\n",
    "                #break\n",
    "        #else:\n",
    "            #continue\n",
    "    graph = plt.plot(cost_history)    \n",
    "    return theta,graph"
   ]
  },
  {
   "cell_type": "code",
   "execution_count": 8,
   "metadata": {},
   "outputs": [
    {
     "ename": "NameError",
     "evalue": "name 'theta' is not defined",
     "output_type": "error",
     "traceback": [
      "\u001b[1;31m---------------------------------------------------------------------------\u001b[0m",
      "\u001b[1;31mNameError\u001b[0m                                 Traceback (most recent call last)",
      "\u001b[1;32m<ipython-input-8-9dff6efcc45a>\u001b[0m in \u001b[0;36m<module>\u001b[1;34m()\u001b[0m\n\u001b[1;32m----> 1\u001b[1;33m \u001b[0mtheta_final\u001b[0m\u001b[1;33m,\u001b[0m\u001b[0mgraph\u001b[0m \u001b[1;33m=\u001b[0m \u001b[0mgradient_descent\u001b[0m\u001b[1;33m(\u001b[0m\u001b[0mXtrain\u001b[0m\u001b[1;33m,\u001b[0m\u001b[0mYtrain\u001b[0m\u001b[1;33m,\u001b[0m\u001b[1;36m.01\u001b[0m\u001b[1;33m,\u001b[0m\u001b[0mtheta\u001b[0m\u001b[1;33m,\u001b[0m\u001b[1;36m10000\u001b[0m\u001b[1;33m)\u001b[0m\u001b[1;33m\u001b[0m\u001b[0m\n\u001b[0m",
      "\u001b[1;31mNameError\u001b[0m: name 'theta' is not defined"
     ]
    }
   ],
   "source": [
    "theta_final,graph = gradient_descent(Xtrain,Ytrain,.01,theta,10000)"
   ]
  }
 ],
 "metadata": {
  "kernelspec": {
   "display_name": "Python 3",
   "language": "python",
   "name": "python3"
  },
  "language_info": {
   "codemirror_mode": {
    "name": "ipython",
    "version": 3
   },
   "file_extension": ".py",
   "mimetype": "text/x-python",
   "name": "python",
   "nbconvert_exporter": "python",
   "pygments_lexer": "ipython3",
   "version": "3.6.4"
  }
 },
 "nbformat": 4,
 "nbformat_minor": 2
}
